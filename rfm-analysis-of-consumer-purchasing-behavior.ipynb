{
 "cells": [
  {
   "cell_type": "markdown",
   "id": "baf5c4db",
   "metadata": {},
   "source": [
    "RFM ANALYSIS ( CONSUMER BEHAVIOUR SEGMENTATION)"
   ]
  },
  {
   "cell_type": "markdown",
   "id": "c35a6a38",
   "metadata": {},
   "source": [
    "STEP 1 : Simulating the required datafeilds"
   ]
  },
  {
   "cell_type": "code",
   "execution_count": null,
   "id": "22d543d2",
   "metadata": {
    "_cell_guid": "b1076dfc-b9ad-4769-8c92-a6c4dae69d19",
    "_uuid": "8f2839f25d086af736a60e9eeb907d3b93b6e0e5",
    "execution": {
     "iopub.execute_input": "2025-04-24T11:57:53.732479Z",
     "iopub.status.busy": "2025-04-24T11:57:53.732158Z",
     "iopub.status.idle": "2025-04-24T11:57:55.783482Z",
     "shell.execute_reply": "2025-04-24T11:57:55.782591Z"
    },
    "papermill": {
     "duration": 2.058456,
     "end_time": "2025-04-24T11:57:55.785173",
     "exception": false,
     "start_time": "2025-04-24T11:57:53.726717",
     "status": "completed"
    },
    "tags": []
   },
   "outputs": [
    {
     "data": {
      "text/html": [
       "<div>\n",
       "<style scoped>\n",
       "    .dataframe tbody tr th:only-of-type {\n",
       "        vertical-align: middle;\n",
       "    }\n",
       "\n",
       "    .dataframe tbody tr th {\n",
       "        vertical-align: top;\n",
       "    }\n",
       "\n",
       "    .dataframe thead th {\n",
       "        text-align: right;\n",
       "    }\n",
       "</style>\n",
       "<table border=\"1\" class=\"dataframe\">\n",
       "  <thead>\n",
       "    <tr style=\"text-align: right;\">\n",
       "      <th></th>\n",
       "      <th>Index</th>\n",
       "      <th>Customer Id</th>\n",
       "      <th>First Name</th>\n",
       "      <th>Last Name</th>\n",
       "      <th>Company</th>\n",
       "      <th>City</th>\n",
       "      <th>Country</th>\n",
       "      <th>Phone 1</th>\n",
       "      <th>Phone 2</th>\n",
       "      <th>Email</th>\n",
       "      <th>Subscription Date</th>\n",
       "      <th>Website</th>\n",
       "      <th>LastPurchaseDate</th>\n",
       "      <th>TotalPurchases</th>\n",
       "      <th>TotalSpend</th>\n",
       "    </tr>\n",
       "  </thead>\n",
       "  <tbody>\n",
       "    <tr>\n",
       "      <th>0</th>\n",
       "      <td>1</td>\n",
       "      <td>dE014d010c7ab0c</td>\n",
       "      <td>Andrew</td>\n",
       "      <td>Goodman</td>\n",
       "      <td>Stewart-Flynn</td>\n",
       "      <td>Rowlandberg</td>\n",
       "      <td>Macao</td>\n",
       "      <td>846-790-4623x4715</td>\n",
       "      <td>(422)787-2331x71127</td>\n",
       "      <td>marieyates@gomez-spencer.info</td>\n",
       "      <td>2021-07-26</td>\n",
       "      <td>http://www.shea.biz/</td>\n",
       "      <td>2023-04-13</td>\n",
       "      <td>2</td>\n",
       "      <td>3309.55</td>\n",
       "    </tr>\n",
       "    <tr>\n",
       "      <th>1</th>\n",
       "      <td>2</td>\n",
       "      <td>2B54172c8b65eC3</td>\n",
       "      <td>Alvin</td>\n",
       "      <td>Lane</td>\n",
       "      <td>Terry, Proctor and Lawrence</td>\n",
       "      <td>Bethside</td>\n",
       "      <td>Papua New Guinea</td>\n",
       "      <td>124-597-8652x05682</td>\n",
       "      <td>321.441.0588x6218</td>\n",
       "      <td>alexandra86@mccoy.com</td>\n",
       "      <td>2021-06-24</td>\n",
       "      <td>http://www.pena-cole.com/</td>\n",
       "      <td>2024-03-11</td>\n",
       "      <td>3</td>\n",
       "      <td>4961.45</td>\n",
       "    </tr>\n",
       "    <tr>\n",
       "      <th>2</th>\n",
       "      <td>3</td>\n",
       "      <td>d794Dd48988d2ac</td>\n",
       "      <td>Jenna</td>\n",
       "      <td>Harding</td>\n",
       "      <td>Bailey Group</td>\n",
       "      <td>Moniquemouth</td>\n",
       "      <td>China</td>\n",
       "      <td>(335)987-3085x3780</td>\n",
       "      <td>001-680-204-8312</td>\n",
       "      <td>justincurtis@pierce.org</td>\n",
       "      <td>2020-04-05</td>\n",
       "      <td>http://www.booth-reese.biz/</td>\n",
       "      <td>2023-12-15</td>\n",
       "      <td>2</td>\n",
       "      <td>1490.89</td>\n",
       "    </tr>\n",
       "    <tr>\n",
       "      <th>3</th>\n",
       "      <td>4</td>\n",
       "      <td>3b3Aa4aCc68f3Be</td>\n",
       "      <td>Fernando</td>\n",
       "      <td>Ford</td>\n",
       "      <td>Moss-Maxwell</td>\n",
       "      <td>Leeborough</td>\n",
       "      <td>Macao</td>\n",
       "      <td>(047)752-3122</td>\n",
       "      <td>048.779.5035x9122</td>\n",
       "      <td>adeleon@hubbard.org</td>\n",
       "      <td>2020-11-29</td>\n",
       "      <td>http://www.hebert.com/</td>\n",
       "      <td>2023-09-28</td>\n",
       "      <td>4</td>\n",
       "      <td>1859.84</td>\n",
       "    </tr>\n",
       "    <tr>\n",
       "      <th>4</th>\n",
       "      <td>5</td>\n",
       "      <td>D60df62ad2ae41E</td>\n",
       "      <td>Kara</td>\n",
       "      <td>Woods</td>\n",
       "      <td>Mccarthy-Kelley</td>\n",
       "      <td>Port Jacksonland</td>\n",
       "      <td>Nepal</td>\n",
       "      <td>+1-360-693-4419x19272</td>\n",
       "      <td>163-627-2565</td>\n",
       "      <td>jesus90@roberson.info</td>\n",
       "      <td>2022-04-22</td>\n",
       "      <td>http://merritt.com/</td>\n",
       "      <td>2023-04-17</td>\n",
       "      <td>9</td>\n",
       "      <td>1980.85</td>\n",
       "    </tr>\n",
       "  </tbody>\n",
       "</table>\n",
       "</div>"
      ],
      "text/plain": [
       "   Index      Customer Id First Name Last Name                      Company  \\\n",
       "0      1  dE014d010c7ab0c     Andrew   Goodman                Stewart-Flynn   \n",
       "1      2  2B54172c8b65eC3      Alvin      Lane  Terry, Proctor and Lawrence   \n",
       "2      3  d794Dd48988d2ac      Jenna   Harding                 Bailey Group   \n",
       "3      4  3b3Aa4aCc68f3Be   Fernando      Ford                 Moss-Maxwell   \n",
       "4      5  D60df62ad2ae41E       Kara     Woods              Mccarthy-Kelley   \n",
       "\n",
       "               City           Country                Phone 1  \\\n",
       "0       Rowlandberg             Macao      846-790-4623x4715   \n",
       "1          Bethside  Papua New Guinea     124-597-8652x05682   \n",
       "2      Moniquemouth             China     (335)987-3085x3780   \n",
       "3        Leeborough             Macao          (047)752-3122   \n",
       "4  Port Jacksonland             Nepal  +1-360-693-4419x19272   \n",
       "\n",
       "               Phone 2                          Email Subscription Date  \\\n",
       "0  (422)787-2331x71127  marieyates@gomez-spencer.info        2021-07-26   \n",
       "1    321.441.0588x6218          alexandra86@mccoy.com        2021-06-24   \n",
       "2     001-680-204-8312        justincurtis@pierce.org        2020-04-05   \n",
       "3    048.779.5035x9122            adeleon@hubbard.org        2020-11-29   \n",
       "4         163-627-2565          jesus90@roberson.info        2022-04-22   \n",
       "\n",
       "                       Website LastPurchaseDate  TotalPurchases  TotalSpend  \n",
       "0         http://www.shea.biz/       2023-04-13               2     3309.55  \n",
       "1    http://www.pena-cole.com/       2024-03-11               3     4961.45  \n",
       "2  http://www.booth-reese.biz/       2023-12-15               2     1490.89  \n",
       "3       http://www.hebert.com/       2023-09-28               4     1859.84  \n",
       "4          http://merritt.com/       2023-04-17               9     1980.85  "
      ]
     },
     "execution_count": 2,
     "metadata": {},
     "output_type": "execute_result"
    }
   ],
   "source": [
    "import pandas as pd\n",
    "import numpy as np\n",
    "\n",
    "# Load the uploaded dataset\n",
    "df = pd.read_csv(\"YOUR DATA DIRECTORY\")  # Change to your actual uploaded file\n",
    "\n",
    "# create imaginary random Last Purchase Date between Jan 2023 and Apr 2024\n",
    "np.random.seed(42) \n",
    "df['LastPurchaseDate'] = pd.to_datetime(\n",
    "    np.random.choice(pd.date_range(start=\"2023-01-01\", end=\"2024-04-01\"), size=len(df))\n",
    ")\n",
    "\n",
    "# Simulate Total Purchases (Frequency) between 1 to 10\n",
    "df['TotalPurchases'] = np.random.randint(1, 11, size=len(df))\n",
    "\n",
    "# Simulate Total Spend (Monetary) between ₹100 to ₹5000\n",
    "df['TotalSpend'] = np.round(np.random.uniform(100, 5000, size=len(df)), 2)\n",
    "\n",
    "# View a sample of the updated dataset\n",
    "df.head()\n"
   ]
  },
  {
   "cell_type": "markdown",
   "id": "d8b1652b",
   "metadata": {
    "papermill": {
     "duration": 0.003394,
     "end_time": "2025-04-24T11:57:55.792616",
     "exception": false,
     "start_time": "2025-04-24T11:57:55.789222",
     "status": "completed"
    },
    "tags": []
   },
   "source": [
    "STEP 2 : CALCULATING RECENCY"
   ]
  },
  {
   "cell_type": "code",
   "execution_count": 3,
   "id": "771bfd10",
   "metadata": {
    "execution": {
     "iopub.execute_input": "2025-04-24T11:57:55.801464Z",
     "iopub.status.busy": "2025-04-24T11:57:55.801105Z",
     "iopub.status.idle": "2025-04-24T11:57:55.823515Z",
     "shell.execute_reply": "2025-04-24T11:57:55.822368Z"
    },
    "papermill": {
     "duration": 0.028792,
     "end_time": "2025-04-24T11:57:55.825072",
     "exception": false,
     "start_time": "2025-04-24T11:57:55.796280",
     "status": "completed"
    },
    "tags": []
   },
   "outputs": [
    {
     "data": {
      "text/html": [
       "<div>\n",
       "<style scoped>\n",
       "    .dataframe tbody tr th:only-of-type {\n",
       "        vertical-align: middle;\n",
       "    }\n",
       "\n",
       "    .dataframe tbody tr th {\n",
       "        vertical-align: top;\n",
       "    }\n",
       "\n",
       "    .dataframe thead th {\n",
       "        text-align: right;\n",
       "    }\n",
       "</style>\n",
       "<table border=\"1\" class=\"dataframe\">\n",
       "  <thead>\n",
       "    <tr style=\"text-align: right;\">\n",
       "      <th></th>\n",
       "      <th>LastPurchaseDate</th>\n",
       "      <th>Recency</th>\n",
       "    </tr>\n",
       "  </thead>\n",
       "  <tbody>\n",
       "    <tr>\n",
       "      <th>0</th>\n",
       "      <td>2023-04-13</td>\n",
       "      <td>742</td>\n",
       "    </tr>\n",
       "    <tr>\n",
       "      <th>1</th>\n",
       "      <td>2024-03-11</td>\n",
       "      <td>409</td>\n",
       "    </tr>\n",
       "    <tr>\n",
       "      <th>2</th>\n",
       "      <td>2023-12-15</td>\n",
       "      <td>496</td>\n",
       "    </tr>\n",
       "    <tr>\n",
       "      <th>3</th>\n",
       "      <td>2023-09-28</td>\n",
       "      <td>574</td>\n",
       "    </tr>\n",
       "    <tr>\n",
       "      <th>4</th>\n",
       "      <td>2023-04-17</td>\n",
       "      <td>738</td>\n",
       "    </tr>\n",
       "  </tbody>\n",
       "</table>\n",
       "</div>"
      ],
      "text/plain": [
       "  LastPurchaseDate  Recency\n",
       "0       2023-04-13      742\n",
       "1       2024-03-11      409\n",
       "2       2023-12-15      496\n",
       "3       2023-09-28      574\n",
       "4       2023-04-17      738"
      ]
     },
     "execution_count": 3,
     "metadata": {},
     "output_type": "execute_result"
    }
   ],
   "source": [
    "import pandas as pd\n",
    "import numpy as np\n",
    "\n",
    "# Reference date for recency (today)\n",
    "today = pd.to_datetime(\"2025-04-24\") # or we can use here the pd.Timestamp.now() for the current date\n",
    "\n",
    "# Calculate recency in days\n",
    "df['Recency'] = (today - df['LastPurchaseDate']).dt.days\n",
    "\n",
    "df[['LastPurchaseDate', 'Recency']].head()\n"
   ]
  },
  {
   "cell_type": "markdown",
   "id": "f40d47bb",
   "metadata": {},
   "source": [
    "STEP 4 : LABELLING THE ENTRIES IN DIFFERENT QUANTIUM BINS"
   ]
  },
  {
   "cell_type": "code",
   "execution_count": 4,
   "id": "5c1a89c4",
   "metadata": {
    "execution": {
     "iopub.execute_input": "2025-04-24T11:57:55.843572Z",
     "iopub.status.busy": "2025-04-24T11:57:55.843182Z",
     "iopub.status.idle": "2025-04-24T11:57:55.885170Z",
     "shell.execute_reply": "2025-04-24T11:57:55.884244Z"
    },
    "papermill": {
     "duration": 0.049406,
     "end_time": "2025-04-24T11:57:55.887048",
     "exception": false,
     "start_time": "2025-04-24T11:57:55.837642",
     "status": "completed"
    },
    "tags": []
   },
   "outputs": [
    {
     "data": {
      "text/html": [
       "<div>\n",
       "<style scoped>\n",
       "    .dataframe tbody tr th:only-of-type {\n",
       "        vertical-align: middle;\n",
       "    }\n",
       "\n",
       "    .dataframe tbody tr th {\n",
       "        vertical-align: top;\n",
       "    }\n",
       "\n",
       "    .dataframe thead th {\n",
       "        text-align: right;\n",
       "    }\n",
       "</style>\n",
       "<table border=\"1\" class=\"dataframe\">\n",
       "  <thead>\n",
       "    <tr style=\"text-align: right;\">\n",
       "      <th></th>\n",
       "      <th>Index</th>\n",
       "      <th>Customer Id</th>\n",
       "      <th>First Name</th>\n",
       "      <th>Last Name</th>\n",
       "      <th>Company</th>\n",
       "      <th>City</th>\n",
       "      <th>Country</th>\n",
       "      <th>Phone 1</th>\n",
       "      <th>Phone 2</th>\n",
       "      <th>Email</th>\n",
       "      <th>Subscription Date</th>\n",
       "      <th>Website</th>\n",
       "      <th>LastPurchaseDate</th>\n",
       "      <th>TotalPurchases</th>\n",
       "      <th>TotalSpend</th>\n",
       "      <th>Recency</th>\n",
       "      <th>R_Score</th>\n",
       "      <th>F_Score</th>\n",
       "      <th>M_Score</th>\n",
       "    </tr>\n",
       "  </thead>\n",
       "  <tbody>\n",
       "    <tr>\n",
       "      <th>0</th>\n",
       "      <td>1</td>\n",
       "      <td>dE014d010c7ab0c</td>\n",
       "      <td>Andrew</td>\n",
       "      <td>Goodman</td>\n",
       "      <td>Stewart-Flynn</td>\n",
       "      <td>Rowlandberg</td>\n",
       "      <td>Macao</td>\n",
       "      <td>846-790-4623x4715</td>\n",
       "      <td>(422)787-2331x71127</td>\n",
       "      <td>marieyates@gomez-spencer.info</td>\n",
       "      <td>2021-07-26</td>\n",
       "      <td>http://www.shea.biz/</td>\n",
       "      <td>2023-04-13</td>\n",
       "      <td>2</td>\n",
       "      <td>3309.55</td>\n",
       "      <td>742</td>\n",
       "      <td>2</td>\n",
       "      <td>1</td>\n",
       "      <td>4</td>\n",
       "    </tr>\n",
       "    <tr>\n",
       "      <th>1</th>\n",
       "      <td>2</td>\n",
       "      <td>2B54172c8b65eC3</td>\n",
       "      <td>Alvin</td>\n",
       "      <td>Lane</td>\n",
       "      <td>Terry, Proctor and Lawrence</td>\n",
       "      <td>Bethside</td>\n",
       "      <td>Papua New Guinea</td>\n",
       "      <td>124-597-8652x05682</td>\n",
       "      <td>321.441.0588x6218</td>\n",
       "      <td>alexandra86@mccoy.com</td>\n",
       "      <td>2021-06-24</td>\n",
       "      <td>http://www.pena-cole.com/</td>\n",
       "      <td>2024-03-11</td>\n",
       "      <td>3</td>\n",
       "      <td>4961.45</td>\n",
       "      <td>409</td>\n",
       "      <td>5</td>\n",
       "      <td>2</td>\n",
       "      <td>5</td>\n",
       "    </tr>\n",
       "    <tr>\n",
       "      <th>2</th>\n",
       "      <td>3</td>\n",
       "      <td>d794Dd48988d2ac</td>\n",
       "      <td>Jenna</td>\n",
       "      <td>Harding</td>\n",
       "      <td>Bailey Group</td>\n",
       "      <td>Moniquemouth</td>\n",
       "      <td>China</td>\n",
       "      <td>(335)987-3085x3780</td>\n",
       "      <td>001-680-204-8312</td>\n",
       "      <td>justincurtis@pierce.org</td>\n",
       "      <td>2020-04-05</td>\n",
       "      <td>http://www.booth-reese.biz/</td>\n",
       "      <td>2023-12-15</td>\n",
       "      <td>2</td>\n",
       "      <td>1490.89</td>\n",
       "      <td>496</td>\n",
       "      <td>4</td>\n",
       "      <td>1</td>\n",
       "      <td>2</td>\n",
       "    </tr>\n",
       "    <tr>\n",
       "      <th>3</th>\n",
       "      <td>4</td>\n",
       "      <td>3b3Aa4aCc68f3Be</td>\n",
       "      <td>Fernando</td>\n",
       "      <td>Ford</td>\n",
       "      <td>Moss-Maxwell</td>\n",
       "      <td>Leeborough</td>\n",
       "      <td>Macao</td>\n",
       "      <td>(047)752-3122</td>\n",
       "      <td>048.779.5035x9122</td>\n",
       "      <td>adeleon@hubbard.org</td>\n",
       "      <td>2020-11-29</td>\n",
       "      <td>http://www.hebert.com/</td>\n",
       "      <td>2023-09-28</td>\n",
       "      <td>4</td>\n",
       "      <td>1859.84</td>\n",
       "      <td>574</td>\n",
       "      <td>4</td>\n",
       "      <td>2</td>\n",
       "      <td>2</td>\n",
       "    </tr>\n",
       "    <tr>\n",
       "      <th>4</th>\n",
       "      <td>5</td>\n",
       "      <td>D60df62ad2ae41E</td>\n",
       "      <td>Kara</td>\n",
       "      <td>Woods</td>\n",
       "      <td>Mccarthy-Kelley</td>\n",
       "      <td>Port Jacksonland</td>\n",
       "      <td>Nepal</td>\n",
       "      <td>+1-360-693-4419x19272</td>\n",
       "      <td>163-627-2565</td>\n",
       "      <td>jesus90@roberson.info</td>\n",
       "      <td>2022-04-22</td>\n",
       "      <td>http://merritt.com/</td>\n",
       "      <td>2023-04-17</td>\n",
       "      <td>9</td>\n",
       "      <td>1980.85</td>\n",
       "      <td>738</td>\n",
       "      <td>2</td>\n",
       "      <td>5</td>\n",
       "      <td>2</td>\n",
       "    </tr>\n",
       "  </tbody>\n",
       "</table>\n",
       "</div>"
      ],
      "text/plain": [
       "   Index      Customer Id First Name Last Name                      Company  \\\n",
       "0      1  dE014d010c7ab0c     Andrew   Goodman                Stewart-Flynn   \n",
       "1      2  2B54172c8b65eC3      Alvin      Lane  Terry, Proctor and Lawrence   \n",
       "2      3  d794Dd48988d2ac      Jenna   Harding                 Bailey Group   \n",
       "3      4  3b3Aa4aCc68f3Be   Fernando      Ford                 Moss-Maxwell   \n",
       "4      5  D60df62ad2ae41E       Kara     Woods              Mccarthy-Kelley   \n",
       "\n",
       "               City           Country                Phone 1  \\\n",
       "0       Rowlandberg             Macao      846-790-4623x4715   \n",
       "1          Bethside  Papua New Guinea     124-597-8652x05682   \n",
       "2      Moniquemouth             China     (335)987-3085x3780   \n",
       "3        Leeborough             Macao          (047)752-3122   \n",
       "4  Port Jacksonland             Nepal  +1-360-693-4419x19272   \n",
       "\n",
       "               Phone 2                          Email Subscription Date  \\\n",
       "0  (422)787-2331x71127  marieyates@gomez-spencer.info        2021-07-26   \n",
       "1    321.441.0588x6218          alexandra86@mccoy.com        2021-06-24   \n",
       "2     001-680-204-8312        justincurtis@pierce.org        2020-04-05   \n",
       "3    048.779.5035x9122            adeleon@hubbard.org        2020-11-29   \n",
       "4         163-627-2565          jesus90@roberson.info        2022-04-22   \n",
       "\n",
       "                       Website LastPurchaseDate  TotalPurchases  TotalSpend  \\\n",
       "0         http://www.shea.biz/       2023-04-13               2     3309.55   \n",
       "1    http://www.pena-cole.com/       2024-03-11               3     4961.45   \n",
       "2  http://www.booth-reese.biz/       2023-12-15               2     1490.89   \n",
       "3       http://www.hebert.com/       2023-09-28               4     1859.84   \n",
       "4          http://merritt.com/       2023-04-17               9     1980.85   \n",
       "\n",
       "   Recency  R_Score  F_Score  M_Score  \n",
       "0      742        2        1        4  \n",
       "1      409        5        2        5  \n",
       "2      496        4        1        2  \n",
       "3      574        4        2        2  \n",
       "4      738        2        5        2  "
      ]
     },
     "execution_count": 4,
     "metadata": {},
     "output_type": "execute_result"
    }
   ],
   "source": [
    "# Recency Score: lower recency = better score\n",
    "df['R_Score'] = pd.qcut(df['Recency'], q=5, labels=[5, 4, 3, 2, 1]).astype(int)\n",
    "\n",
    "# Frequency Score: more purchases = better score\n",
    "df['F_Score'] = pd.qcut(df['TotalPurchases'], q=5, labels=[1, 2, 3, 4, 5]).astype(int)\n",
    "\n",
    "# Monetary Score: higher spend = better score\n",
    "df['M_Score'] = pd.qcut(df['TotalSpend'], q=5, labels=[1, 2, 3, 4, 5]).astype(int)\n",
    "\n",
    "# View the first few scores\n",
    "#df[['Recency', 'TotalPurchases', 'TotalSpend', 'R_Score', 'F_Score', 'M_Score']].head()\n",
    "df.head() "
   ]
  },
  {
   "cell_type": "markdown",
   "id": "30072df5",
   "metadata": {
    "papermill": {
     "duration": 0.006504,
     "end_time": "2025-04-24T11:57:55.900129",
     "exception": false,
     "start_time": "2025-04-24T11:57:55.893625",
     "status": "completed"
    },
    "tags": []
   },
   "source": [
    "now finding the total rfm score of the customer as rfm=s(r)+ s(f)+s(m)"
   ]
  },
  {
   "cell_type": "code",
   "execution_count": 5,
   "id": "ad4334de",
   "metadata": {
    "execution": {
     "iopub.execute_input": "2025-04-24T11:57:55.915518Z",
     "iopub.status.busy": "2025-04-24T11:57:55.914574Z",
     "iopub.status.idle": "2025-04-24T11:57:55.922409Z",
     "shell.execute_reply": "2025-04-24T11:57:55.920993Z"
    },
    "papermill": {
     "duration": 0.020597,
     "end_time": "2025-04-24T11:57:55.927152",
     "exception": false,
     "start_time": "2025-04-24T11:57:55.906555",
     "status": "completed"
    },
    "tags": []
   },
   "outputs": [],
   "source": [
    "df['RFM_Score'] = df['R_Score'] + df['F_Score'] + df['M_Score']\n"
   ]
  },
  {
   "cell_type": "markdown",
   "id": "1a8ca89f",
   "metadata": {
    "papermill": {
     "duration": 0.004135,
     "end_time": "2025-04-24T11:57:55.937617",
     "exception": false,
     "start_time": "2025-04-24T11:57:55.933482",
     "status": "completed"
    },
    "tags": []
   },
   "source": [
    "Step 5: Segment Customers Based on the RFM Score"
   ]
  },
  {
   "cell_type": "code",
   "execution_count": null,
   "id": "a236914a",
   "metadata": {
    "execution": {
     "iopub.execute_input": "2025-04-24T11:57:55.948104Z",
     "iopub.status.busy": "2025-04-24T11:57:55.947673Z",
     "iopub.status.idle": "2025-04-24T11:57:55.955287Z",
     "shell.execute_reply": "2025-04-24T11:57:55.954386Z"
    },
    "papermill": {
     "duration": 0.015262,
     "end_time": "2025-04-24T11:57:55.957494",
     "exception": false,
     "start_time": "2025-04-24T11:57:55.942232",
     "status": "completed"
    },
    "tags": []
   },
   "outputs": [],
   "source": [
    "def rfm_segment(x):\n",
    "    if x >= 13:\n",
    "        return 'Champions'\n",
    "    elif x >= 10:\n",
    "        return 'Loyal'\n",
    "    elif x >= 7:\n",
    "        return 'At Risk'\n",
    "    else:\n",
    "        return 'Lost'\n",
    "\n",
    "df['RFM_Segment'] = df['RFM_Score'].apply(rfm_segment) \n"
   ]
  },
  {
   "cell_type": "code",
   "execution_count": 6,
   "id": "b553d9c7",
   "metadata": {
    "execution": {
     "iopub.execute_input": "2025-04-24T11:57:55.970642Z",
     "iopub.status.busy": "2025-04-24T11:57:55.970252Z",
     "iopub.status.idle": "2025-04-24T11:57:55.984896Z",
     "shell.execute_reply": "2025-04-24T11:57:55.984024Z"
    },
    "papermill": {
     "duration": 0.02241,
     "end_time": "2025-04-24T11:57:55.986567",
     "exception": false,
     "start_time": "2025-04-24T11:57:55.964157",
     "status": "completed"
    },
    "tags": []
   },
   "outputs": [
    {
     "data": {
      "text/html": [
       "<div>\n",
       "<style scoped>\n",
       "    .dataframe tbody tr th:only-of-type {\n",
       "        vertical-align: middle;\n",
       "    }\n",
       "\n",
       "    .dataframe tbody tr th {\n",
       "        vertical-align: top;\n",
       "    }\n",
       "\n",
       "    .dataframe thead th {\n",
       "        text-align: right;\n",
       "    }\n",
       "</style>\n",
       "<table border=\"1\" class=\"dataframe\">\n",
       "  <thead>\n",
       "    <tr style=\"text-align: right;\">\n",
       "      <th></th>\n",
       "      <th>Customer Id</th>\n",
       "      <th>Recency</th>\n",
       "      <th>TotalPurchases</th>\n",
       "      <th>TotalSpend</th>\n",
       "      <th>R_Score</th>\n",
       "      <th>F_Score</th>\n",
       "      <th>M_Score</th>\n",
       "      <th>RFM_Score</th>\n",
       "      <th>RFM_Segment</th>\n",
       "    </tr>\n",
       "  </thead>\n",
       "  <tbody>\n",
       "    <tr>\n",
       "      <th>0</th>\n",
       "      <td>dE014d010c7ab0c</td>\n",
       "      <td>742</td>\n",
       "      <td>2</td>\n",
       "      <td>3309.55</td>\n",
       "      <td>2</td>\n",
       "      <td>1</td>\n",
       "      <td>4</td>\n",
       "      <td>7</td>\n",
       "      <td>At Risk</td>\n",
       "    </tr>\n",
       "    <tr>\n",
       "      <th>1</th>\n",
       "      <td>2B54172c8b65eC3</td>\n",
       "      <td>409</td>\n",
       "      <td>3</td>\n",
       "      <td>4961.45</td>\n",
       "      <td>5</td>\n",
       "      <td>2</td>\n",
       "      <td>5</td>\n",
       "      <td>12</td>\n",
       "      <td>Loyal</td>\n",
       "    </tr>\n",
       "    <tr>\n",
       "      <th>2</th>\n",
       "      <td>d794Dd48988d2ac</td>\n",
       "      <td>496</td>\n",
       "      <td>2</td>\n",
       "      <td>1490.89</td>\n",
       "      <td>4</td>\n",
       "      <td>1</td>\n",
       "      <td>2</td>\n",
       "      <td>7</td>\n",
       "      <td>At Risk</td>\n",
       "    </tr>\n",
       "    <tr>\n",
       "      <th>3</th>\n",
       "      <td>3b3Aa4aCc68f3Be</td>\n",
       "      <td>574</td>\n",
       "      <td>4</td>\n",
       "      <td>1859.84</td>\n",
       "      <td>4</td>\n",
       "      <td>2</td>\n",
       "      <td>2</td>\n",
       "      <td>8</td>\n",
       "      <td>At Risk</td>\n",
       "    </tr>\n",
       "    <tr>\n",
       "      <th>4</th>\n",
       "      <td>D60df62ad2ae41E</td>\n",
       "      <td>738</td>\n",
       "      <td>9</td>\n",
       "      <td>1980.85</td>\n",
       "      <td>2</td>\n",
       "      <td>5</td>\n",
       "      <td>2</td>\n",
       "      <td>9</td>\n",
       "      <td>At Risk</td>\n",
       "    </tr>\n",
       "  </tbody>\n",
       "</table>\n",
       "</div>"
      ],
      "text/plain": [
       "       Customer Id  Recency  TotalPurchases  TotalSpend  R_Score  F_Score  \\\n",
       "0  dE014d010c7ab0c      742               2     3309.55        2        1   \n",
       "1  2B54172c8b65eC3      409               3     4961.45        5        2   \n",
       "2  d794Dd48988d2ac      496               2     1490.89        4        1   \n",
       "3  3b3Aa4aCc68f3Be      574               4     1859.84        4        2   \n",
       "4  D60df62ad2ae41E      738               9     1980.85        2        5   \n",
       "\n",
       "   M_Score  RFM_Score RFM_Segment  \n",
       "0        4          7     At Risk  \n",
       "1        5         12       Loyal  \n",
       "2        2          7     At Risk  \n",
       "3        2          8     At Risk  \n",
       "4        2          9     At Risk  "
      ]
     },
     "execution_count": 6,
     "metadata": {},
     "output_type": "execute_result"
    }
   ],
   "source": [
    "df[['Customer Id', 'Recency', 'TotalPurchases', 'TotalSpend', 'R_Score', 'F_Score', 'M_Score', 'RFM_Score', 'RFM_Segment']].head()\n"
   ]
  },
  {
   "cell_type": "markdown",
   "id": "87ad4d1c",
   "metadata": {
    "papermill": {
     "duration": 0.00697,
     "end_time": "2025-04-24T11:57:55.999046",
     "exception": false,
     "start_time": "2025-04-24T11:57:55.992076",
     "status": "completed"
    },
    "tags": []
   },
   "source": [
    "STEP 6 : VISUALIZING THE ANALYSIS"
   ]
  },
  {
   "cell_type": "code",
   "execution_count": null,
   "id": "9eca6c33",
   "metadata": {
    "execution": {
     "iopub.execute_input": "2025-04-24T11:57:56.010430Z",
     "iopub.status.busy": "2025-04-24T11:57:56.010051Z",
     "iopub.status.idle": "2025-04-24T11:57:58.380013Z",
     "shell.execute_reply": "2025-04-24T11:57:58.378783Z"
    },
    "papermill": {
     "duration": 2.378273,
     "end_time": "2025-04-24T11:57:58.381767",
     "exception": false,
     "start_time": "2025-04-24T11:57:56.003494",
     "status": "completed"
    },
    "tags": []
   },
   "outputs": [],
   "source": [
    "import matplotlib.pyplot as plt\n",
    "import seaborn as sns\n",
    "\n",
    "# Count plot\n",
    "plt.figure(figsize=(8, 5))\n",
    "sns.countplot(data=df, x='RFM_Segment', order=['Champions', 'Loyal', 'At Risk', 'Lost'], palette='viridis')\n",
    "plt.title('Number of Customers in Each RFM Segment')\n",
    "plt.xlabel('RFM Segment')\n",
    "plt.ylabel('Customer Count')\n",
    "plt.tight_layout()\n",
    "plt.show()\n"
   ]
  },
  {
   "cell_type": "code",
   "execution_count": 9,
   "id": "c2ca4173",
   "metadata": {
    "execution": {
     "iopub.execute_input": "2025-04-24T11:57:58.402821Z",
     "iopub.status.busy": "2025-04-24T11:57:58.402342Z",
     "iopub.status.idle": "2025-04-24T11:57:58.413909Z",
     "shell.execute_reply": "2025-04-24T11:57:58.412976Z"
    },
    "papermill": {
     "duration": 0.018913,
     "end_time": "2025-04-24T11:57:58.415549",
     "exception": false,
     "start_time": "2025-04-24T11:57:58.396636",
     "status": "completed"
    },
    "tags": []
   },
   "outputs": [
    {
     "name": "stdout",
     "output_type": "stream",
     "text": [
      "RFM_Segment\n",
      "Champions    4009.393924\n",
      "Loyal        3012.616272\n",
      "At Risk      2244.100731\n",
      "Lost         1318.297285\n",
      "Name: TotalSpend, dtype: float64\n"
     ]
    }
   ],
   "source": [
    "segment_summary = df.groupby('RFM_Segment')['TotalSpend'].mean().sort_values(ascending=False)\n",
    "print(segment_summary)\n"
   ]
  },
  {
   "cell_type": "code",
   "execution_count": 10,
   "id": "93c57168",
   "metadata": {
    "execution": {
     "iopub.execute_input": "2025-04-24T11:57:58.426537Z",
     "iopub.status.busy": "2025-04-24T11:57:58.426228Z",
     "iopub.status.idle": "2025-04-24T11:57:58.791023Z",
     "shell.execute_reply": "2025-04-24T11:57:58.789812Z"
    },
    "papermill": {
     "duration": 0.372358,
     "end_time": "2025-04-24T11:57:58.792836",
     "exception": false,
     "start_time": "2025-04-24T11:57:58.420478",
     "status": "completed"
    },
    "tags": []
   },
   "outputs": [
    {
     "data": {
      "image/png": "[encoded data removed]",
      "text/plain": [
       "<Figure size 800x500 with 1 Axes>"
      ]
     },
     "metadata": {},
     "output_type": "display_data"
    }
   ],
   "source": [
    "plt.figure(figsize=(8, 5))\n",
    "segment_summary.plot(kind='bar', color='skyblue')\n",
    "plt.title('Average Spend by Customer Segment')\n",
    "plt.ylabel('Average Spend (₹)')\n",
    "plt.xlabel('RFM Segment')\n",
    "plt.xticks(rotation=45)\n",
    "plt.tight_layout()\n",
    "plt.show()\n"
   ]
  },
  {
   "cell_type": "markdown",
   "id": "8f919982",
   "metadata": {},
   "source": [
    "HERE YOUR ANALYSIS ENDS ! "
   ]
  }
 ],
 "metadata": {
  "kaggle": {
   "accelerator": "none",
   "dataSources": [
    {
     "datasetId": 7236659,
     "sourceId": 11539377,
     "sourceType": "datasetVersion"
    }
   ],
   "dockerImageVersionId": 31012,
   "isGpuEnabled": false,
   "isInternetEnabled": false,
   "language": "python",
   "sourceType": "notebook"
  },
  "kernelspec": {
   "display_name": "Python 3",
   "language": "python",
   "name": "python3"
  },
  "language_info": {
   "codemirror_mode": {
    "name": "ipython",
    "version": 3
   },
   "file_extension": ".py",
   "mimetype": "text/x-python",
   "name": "python",
   "nbconvert_exporter": "python",
   "pygments_lexer": "ipython3",
   "version": "3.11.9"
  },
  "papermill": {
   "default_parameters": {},
   "duration": 10.843053,
   "end_time": "2025-04-24T11:57:59.460821",
   "environment_variables": {},
   "exception": null,
   "input_path": "__notebook__.ipynb",
   "output_path": "__notebook__.ipynb",
   "parameters": {},
   "start_time": "2025-04-24T11:57:48.617768",
   "version": "2.6.0"
  }
 },
 "nbformat": 4,
 "nbformat_minor": 5
}
